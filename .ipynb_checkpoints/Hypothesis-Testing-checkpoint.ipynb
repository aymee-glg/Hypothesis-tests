{
 "cells": [
  {
   "cell_type": "raw",
   "metadata": {},
   "source": [
    "---\n",
    "output: pdf_document\n",
    "---"
   ]
  },
  {
   "cell_type": "markdown",
   "metadata": {},
   "source": [
    "# Statistical Hypothesis Testing"
   ]
  },
  {
   "cell_type": "markdown",
   "metadata": {},
   "source": [
    "In this notebook we will briefly review concepts in hypothesis testing and its implementation in R.\n"
   ]
  },
  {
   "cell_type": "markdown",
   "metadata": {},
   "source": [
    "## Overview"
   ]
  },
  {
   "cell_type": "markdown",
   "metadata": {},
   "source": [
    "Hypothesis testing is a statistical procedure in which a choice is made between a null hypothesis and an alternative hypothesis based on evidence from samples and probability theory. Although each hypothesis test is a little different, the main thought is the same.\n"
   ]
  },
  {
   "cell_type": "markdown",
   "metadata": {},
   "source": [
    "Regardless of the specific hypothesis test one is conducting, there are several steps common to all hypothesis\n",
    "tests."
   ]
  },
  {
   "cell_type": "markdown",
   "metadata": {},
   "source": [
    "## Steps for performing Hypothesis Testing"
   ]
  },
  {
   "cell_type": "markdown",
   "metadata": {},
   "source": [
    "**1. Identify the null hypothesis ($H_{0}$) and the alternative hypothesis ($H_{a}$)**\n",
    "    \n",
    "   Each hypothesis test includes two hypothesis about the population and NOT about a sample of that population: \n",
    "   \n",
    "   * The *null hypothesis*, denoted $H_{0}$, is a statement about the values of one or more population parameters. $H_{0}$ is assumed to be true until there is evidence to suggest otherwise. The null hypothesis will always be an dissertation containing an equal sign.\n",
    "\n",
    "    \n",
    "   * The *alternative hypothesis*, denoted $H_{a}$, is a statement that contradicts the null hypothesis and that is thought to hold if $H_{0}$ is rejected.\n",
    "    \n",
    "   \n",
    "   Hypothesis tests are classified according to the sign of the alternative hypothesis as follows:\n",
    "\n",
    "| **Symbol in $H_a$** | **Terminology**       |\n",
    "|---------------|-------------------|\n",
    "| <             | Left-tailed test  |\n",
    "| >             | Right-tailed test |\n",
    "|$\\neq$               | Two-tailed test   |\n"
   ]
  },
  {
   "cell_type": "markdown",
   "metadata": {},
   "source": [
    "** 2. Identify the test statistic (*$T$*) and its sampling distribution and evaluate *$T$* for sample data, *$T_{n}$* **\n",
    "\n",
    "The test statistic assumes a central role in a hypothesis test because by deciding which test statistic\n",
    "to use one determines a hypothesis test to a large extend. \n",
    "\n",
    "The sampling distribution is the distribution of the test statistic, *T*, which is a random variable, given some assumptions. We use the sampling distribution to calculate probabilities for how unusual *$T_{n}$* is if the null hypothesis is true.\n",
    "\n",
    "Some examples of test statistics are t-statistic, z-score, F value and their respective sampling distributions are the Student's T distribution, the standard normal distribution and the F-distribution. For distributions other than the z distribution, the shape of the distribution depends on the degrees of freedom.\n",
    "\n"
   ]
  },
  {
   "cell_type": "markdown",
   "metadata": {},
   "source": [
    "**3.Choose the significance level ($\\alpha$)**\n",
    "\n",
    "The significance level, denoted by $\\alpha$, is the probability of rejecting the null hypothesis when it is actually true. \n",
    "\n",
    "The choice of $\\alpha$ is somewhat arbitrary, although in practice values of 0.1, 0.05, and 0.01 are common. "
   ]
  },
  {
   "cell_type": "markdown",
   "metadata": {},
   "source": [
    "**4. Compute the critical value or the p-value of the test statistic**\n",
    "\n",
    "There are two alternative but equivalent approaches to hypothesis testing: the critical value approach and the p-value approach. So, in this step, you can either calculate the critical value or the p-value of the test statistic. You will arrive to the same conclusion with both approaches.\n",
    "\n",
    "* **Critical value ($T_{c}$) **\n",
    "\n",
    "\n",
    "Critical values depend upon the test statistic, *T*, and the significance level, $\\alpha$. \n",
    "\n",
    "Critical values are essentially cut-off values of the test statistic, *T*, that define the region(s) where the test statistic is unlikely to lie; This region is often referred as the rejection region.\n",
    "\n",
    "Depending on the $H_{a}$, each type of test has its own kind of rejection region:\n",
    "\n",
    "| **Symbol in $H_a$** | **Terminology**       | **Rejection Region** |\n",
    "|---------------|-------------------|-------------------|\n",
    "| <             | Left-tailed test  | (-$\\infty$, $T_{c}$] |\n",
    "| >             | Right-tailed test | [$T_{c}$, $\\infty$) |\n",
    "|$\\neq$         | Two-tailed test   |(-$\\infty$, $T_{c}$] U [$T_{c}$', $\\infty$)|\n",
    "\n",
    "\n",
    "* **P-value**\n",
    "\n",
    "The **p-value**  is the probability of the test statistic, *$T$*, being at least as extreme as the one observed , *$T_{n}$*, given that the null hypothesis is true. The smaller the p-value, the stronger the evidence the sample data provide against $H_{0}$. That is, a small p-value indicates that the null hypothesis is unlikely to be true. \n",
    "\n",
    "\n",
    "\n",
    "Each type of test has its own kind of p-value:\n",
    "\n",
    "| **Symbol in $H_a$** | **Terminology**       | ** P-value ** |\n",
    "|---------------|-------------------|-------------------|\n",
    "| <             | Left-tailed test  | P(T < $T_{n}$) |\n",
    "| >             | Right-tailed test | P(T > $T_{n}$)  |\n",
    "|$\\neq$               | Two-tailed test   | 2P(T > $T_{n}$)|"
   ]
  },
  {
   "cell_type": "markdown",
   "metadata": {},
   "source": [
    "5.**Identify the decision rule**\n",
    "\n",
    "The decision rule states when to reject or fail to reject the null hypothesis. Remember, you cannot actually accept the null hypothesis -- you can only reject or fail to reject the null hypothesis!\n",
    "\n",
    " * **Critical Value Approach**\n",
    "\n",
    "Compare the test statistics computed in *Step 2*, *$T_{n}$*, to the critical value computed in *Step 4*, *$T_{c}$*, and make a decision based on the type of hypothesis testing.\n",
    "\n",
    "|    Type of test   |                                 Decision                                                      |\n",
    "|:-----------------:|:------------------------------------:|---------------------------------------|\n",
    "|                   | **Reject $H_{0}$ **                           | **Fail to Reject $H_{0}$**                    |\n",
    "| Left-tailed test  |  $T_{n}$ < $T_{c}$    |  $T_{n}$ $\\geq$ $T_{c}$    |\n",
    "| Right-tailed test |  $T_{n}$ > $T_{c}$    |  $T_{n}$ $\\leq$ $T_{c}$     |\n",
    "| Two-tailed test   |  $|$$T_{n}$$|$ > $T_{c}$   | $|$$T_{n}$$|$ $\\leq$ $T_{c}$  |\n",
    "\n",
    "* **P-value Approach**\n",
    "\n",
    "Compare the p-value computed in *Step 4* to the significance level chosen in *Step 3* and make a decision:\n",
    "\n",
    "- Reject $H_{0}$, if p-value $\\leqslant$ $\\alpha$\n",
    "- Fail to reject $H_{0}$, if p-value > $\\alpha$\n",
    "\n"
   ]
  },
  {
   "cell_type": "markdown",
   "metadata": {},
   "source": [
    "6.**State the conclusion in the context of the situation**\n",
    "\n",
    "The last step consist on formulating the decision in the context of the problem.\n",
    "\n"
   ]
  },
  {
   "cell_type": "markdown",
   "metadata": {},
   "source": [
    "## Hypothesis Testing in R"
   ]
  },
  {
   "cell_type": "markdown",
   "metadata": {},
   "source": [
    "Now let's jump to an example and see how we can implement hypothesis testing in R. We will use the student sales data from the lectures. "
   ]
  },
  {
   "cell_type": "markdown",
   "metadata": {},
   "source": [
    "Specifically, we will test whether or not a linear relationship exists between the advertising expenditures and the sales in the population. That is, we want to evaluate if the population slope $\\beta_1$ is unlikely to be 0.\n",
    " "
   ]
  },
  {
   "cell_type": "markdown",
   "metadata": {},
   "source": [
    "Let's read the data first and obtain our OLS regression coefficients."
   ]
  },
  {
   "cell_type": "code",
   "execution_count": 6,
   "metadata": {},
   "outputs": [
    {
     "data": {
      "text/plain": [
       "\n",
       "Call:\n",
       "lm(formula = sales ~ advertising, data = meddcor)\n",
       "\n",
       "Residuals:\n",
       "    Min      1Q  Median      3Q     Max \n",
       "-137.56  -92.63  -19.54   97.51  170.12 \n",
       "\n",
       "Coefficients:\n",
       "             Estimate Std. Error t value Pr(>|t|)    \n",
       "(Intercept) -157.3301   145.1912  -1.084     0.29    \n",
       "advertising    2.7721     0.2794   9.921 8.87e-10 ***\n",
       "---\n",
       "Signif. codes:  0 '***' 0.001 '**' 0.01 '*' 0.05 '.' 0.1 ' ' 1\n",
       "\n",
       "Residual standard error: 101.4 on 23 degrees of freedom\n",
       "Multiple R-squared:  0.8106,\tAdjusted R-squared:  0.8024 \n",
       "F-statistic: 98.43 on 1 and 23 DF,  p-value: 8.873e-10\n"
      ]
     },
     "metadata": {},
     "output_type": "display_data"
    }
   ],
   "source": [
    "# Read data\n",
    "meddcor = read.table(\"meddcor.txt\", sep=\"\", header = FALSE)\n",
    "\n",
    "# Set the names of the columns\n",
    "colnames(meddcor) = c(\"sales\", \"advertising\", \"bonuses\", \"marketshare\", \"largestcomp\", \"region\")\n",
    "\n",
    "# Fit a simple linear regression model with advertising as the predictor\n",
    "model = lm(sales ~ advertising, data = meddcor)\n",
    "summary(model)"
   ]
  },
  {
   "cell_type": "markdown",
   "metadata": {},
   "source": [
    "Let's follow the hypothesis test steps discussed above in conducting a hypothesis test for the population slope $\\beta_1$."
   ]
  },
  {
   "cell_type": "markdown",
   "metadata": {},
   "source": [
    " ### Alternative Solution 1: The Critical Value Approach"
   ]
  },
  {
   "cell_type": "markdown",
   "metadata": {},
   "source": [
    "* **Step 1:** Identify the null hypothesis ($H_{0}$) and the alternative hypothesis ($H_{a}$)\n",
    "\n",
    "Let $\\beta_1$  be the true slope parameter. The relevant hypotheses are:\n",
    "\n",
    "$H_{0}$:  $\\beta_1$ = 0\n",
    "\n",
    "$H_{a}$:  $\\beta_1$ $\\neq$ 0\n",
    "\n",
    " "
   ]
  },
  {
   "cell_type": "markdown",
   "metadata": {},
   "source": [
    "* **Step 2:** Identify the test statistic and its sampling distribution and evaluate it for sample data **\n",
    "\n",
    "The sampling distribution of $\\hat{\\beta}_1$ is the Student's t-distribution with n-p-1 degrees of freedom. Thus, the test statistic is: \n",
    "\n",
    "t-value = $\\frac{\\hat{\\beta}_{1} - c}{se(\\hat{\\beta}_1)}$ = $\\frac{\\hat{\\beta}_{1}}{se(\\hat{\\beta}_1)}$ $\\sim$ $t_{(23)}$\n",
    "\n",
    ", where *c* is the hypothesized value of $\\beta_1$ in the null hypothesis.\n",
    "\n",
    "Let's evaluate the t-value for the sample data.\n"
   ]
  },
  {
   "cell_type": "code",
   "execution_count": 7,
   "metadata": {},
   "outputs": [
    {
     "data": {
      "text/html": [
       "9.921"
      ],
      "text/latex": [
       "9.921"
      ],
      "text/markdown": [
       "9.921"
      ],
      "text/plain": [
       "[1] 9.921"
      ]
     },
     "metadata": {},
     "output_type": "display_data"
    }
   ],
   "source": [
    "# Evaluate t-value\n",
    "tvalue = round(summary(model)$coefficients[2,1]/summary(model)$coefficients[2,2],3)\n",
    "tvalue"
   ]
  },
  {
   "cell_type": "markdown",
   "metadata": {},
   "source": [
    "Note that this value matches the t-value for advertising shown in the summary of our model! This is because the t-values and p-values shown in the model output are always calculated assuming the alternative hypothesis is testing the two-tailed  $\\beta_i$ $\\neq$ 0. So, the model output won't be helpful for hypothesis testing that have other alternative hypothesis for the regression coefficients. Thus, the importance to learn the underlying logic behind statistical hypothesis testing."
   ]
  },
  {
   "cell_type": "markdown",
   "metadata": {},
   "source": [
    "* **Step 3:** Choose the significance level ($\\alpha$)\n",
    "\n",
    "We will pick a 5% level of significance, $\\alpha$ = 0.05, for our example."
   ]
  },
  {
   "cell_type": "code",
   "execution_count": 8,
   "metadata": {
    "collapsed": true
   },
   "outputs": [],
   "source": [
    "# Set alpha equal to 0.05\n",
    "alpha = 0.05"
   ]
  },
  {
   "cell_type": "markdown",
   "metadata": {},
   "source": [
    "* **Step 4:** Compute the critical value\n",
    "\n",
    "To calculate this value we can use R's built in probability distribution functions. In this notebook we will examine the details about the commands associated with the Student's t distribution, but the functions for different distributions are very similar. To get a full list of the distributions available in R you can use the following command:"
   ]
  },
  {
   "cell_type": "code",
   "execution_count": 1,
   "metadata": {},
   "outputs": [],
   "source": [
    "help(Distributions)"
   ]
  },
  {
   "cell_type": "markdown",
   "metadata": {},
   "source": [
    "There are four functions that can be used to generate the values associated with the Student's t distribution. You can get a full list of them and their options using the help command:"
   ]
  },
  {
   "cell_type": "code",
   "execution_count": 3,
   "metadata": {
    "collapsed": true
   },
   "outputs": [],
   "source": [
    "help(TDist)"
   ]
  },
  {
   "cell_type": "markdown",
   "metadata": {},
   "source": [
    "In order to calculate the critical value(s), we can use the qt() function. The idea behind qt is that you give it a probability *p*, and the degrees of freedom *df* and it returns the number whose cumulative distribution matches the probability. \n",
    "\n",
    "By default, the qt(p = $\\alpha$, df) function gives the t-value corresponding to a given lower-tailed area as shown bellow."
   ]
  },
  {
   "cell_type": "code",
   "execution_count": 9,
   "metadata": {},
   "outputs": [
    {
     "data": {
      "image/png": "[encoded data removed]",
      "text/plain": [
       "Plot with title \"Student's T distribution with 23 degrees of freedom\""
      ]
     },
     "metadata": {
      "image/png": {
       "height": 420,
       "width": 420
      }
     },
     "output_type": "display_data"
    }
   ],
   "source": [
    "# Create a sequence of 100 equally spaced numbers between -3 and 3\n",
    "x <- seq(-10, -10, length=100)\n",
    "\n",
    "# Number of observations\n",
    "n = nrow(meddcor)\n",
    "\n",
    "# Degrees of freedom\n",
    "df = n -length(coef(model))\n",
    "\n",
    "# Draw the curve\n",
    "curve(dt(x, df), xlim=c(-10,10), main= \"Student's T distribution with 23 degrees of freedom\", ylab = \"Density\", xlab =\"T\")\n",
    " \n",
    "# Define shaded region\n",
    "from.t <- -10\n",
    "to.t <- qt(alpha, df)\n",
    "S.x  <- c(from.t, seq(from.t, to.t, 0.01), to.t)\n",
    "S.y  <- c(0, dt(seq(from.t, to.t, 0.01),df), 0)\n",
    "polygon(S.x, S.y, col=\"red\")"
   ]
  },
  {
   "cell_type": "markdown",
   "metadata": {},
   "source": [
    "But since the test that we are performing is a two-sided test we will have to adjust the probability passed to qt() to obtain the correct critical t-values. There are two critical values for the two-tailed test, one for the left-tail denoted  and one for the right-tail denoted. The left-tail critical value is the t-value such that the probability to the left of it is $\\alpha/2$, and the right-tail critical value is the t-value such that the probability to the right of it is $\\alpha/2$."
   ]
  },
  {
   "cell_type": "code",
   "execution_count": 10,
   "metadata": {},
   "outputs": [
    {
     "data": {
      "text/html": [
       "<style>\n",
       ".list-inline {list-style: none; margin:0; padding: 0}\n",
       ".list-inline>li {display: inline-block}\n",
       ".list-inline>li:not(:last-child)::after {content: \"\\00b7\"; padding: 0 .5ex}\n",
       "</style>\n",
       "<ol class=list-inline><li>-2.0687</li><li>2.0687</li></ol>\n"
      ],
      "text/latex": [
       "\\begin{enumerate*}\n",
       "\\item -2.0687\n",
       "\\item 2.0687\n",
       "\\end{enumerate*}\n"
      ],
      "text/markdown": [
       "1. -2.0687\n",
       "2. 2.0687\n",
       "\n",
       "\n"
      ],
      "text/plain": [
       "[1] -2.0687  2.0687"
      ]
     },
     "metadata": {},
     "output_type": "display_data"
    }
   ],
   "source": [
    "# Calculate critical values \n",
    "crit.val = qt(c((alpha/2), 1-(alpha/2)), df) \n",
    "round(crit.val, 4)"
   ]
  },
  {
   "cell_type": "markdown",
   "metadata": {},
   "source": [
    "These values allow us to build our rejection regions. Visually, the rejection regions are shaded red in the following graph. "
   ]
  },
  {
   "cell_type": "code",
   "execution_count": 11,
   "metadata": {},
   "outputs": [
    {
     "data": {
      "image/png": "[encoded data removed]",
      "text/plain": [
       "Plot with title \"Student's T distribution with 23 degrees of freedom\""
      ]
     },
     "metadata": {
      "image/png": {
       "height": 420,
       "width": 420
      }
     },
     "output_type": "display_data"
    }
   ],
   "source": [
    "# Create a sequence of 100 equally spaced numbers between -3 and 3\n",
    "x <- seq(-10, 10, length=100)\n",
    "\n",
    "# Draw the curve\n",
    "curve(dt(x, df), xlim=c(-10,10), main= \"Student's T distribution with 23 degrees of freedom\", ylab = \"Density\", xlab =\"T\")\n",
    " \n",
    "# Define shaded region\n",
    "from.t <- -10\n",
    "to.t <- qt(alpha/2, df)\n",
    "S.x  <- c(from.t, seq(from.t, to.t, 0.01), to.t)\n",
    "S.y  <- c(0, dt(seq(from.t, to.t, 0.01),df), 0)\n",
    "polygon(S.x, S.y, col=\"red\")\n",
    "S.x  <- c(-to.t, seq(-to.t, -from.t, 0.01), -from.t)\n",
    "S.y  <- c(0, dt(seq(-to.t, -from.t, 0.01),df), 0)\n",
    "polygon(S.x, S.y, col=\"red\")"
   ]
  },
  {
   "cell_type": "markdown",
   "metadata": {},
   "source": [
    "**Step 5:** Identify the decision rule\n",
    "\n",
    "Since this a two-sided test, we will reject $H_{0}$ if the t-value lies on either rejection region. So, we will reject $H_{0}$ if test statistics <  - Critical value or test statistics > Critical value"
   ]
  },
  {
   "cell_type": "code",
   "execution_count": 12,
   "metadata": {},
   "outputs": [
    {
     "data": {
      "text/html": [
       "TRUE"
      ],
      "text/latex": [
       "TRUE"
      ],
      "text/markdown": [
       "TRUE"
      ],
      "text/plain": [
       "[1] TRUE"
      ]
     },
     "metadata": {},
     "output_type": "display_data"
    }
   ],
   "source": [
    "# Decision rule\n",
    "\n",
    "abs(tvalue) > crit.val[2]"
   ]
  },
  {
   "cell_type": "markdown",
   "metadata": {},
   "source": [
    "Since the absolute value of the test statistic (9.921) is much greater than the positive critical value (2.069), we reject the null hypothesis at $\\alpha$ = 0.05."
   ]
  },
  {
   "cell_type": "markdown",
   "metadata": {},
   "source": [
    "**Step 6:** Conclusions\n",
    "\n",
    "The data provide strong evidence that the population slope is nonzero at $\\alpha$ = 0.05. Hence, a linear relationship exists between the advertising expenditures and the sales in the population."
   ]
  },
  {
   "cell_type": "markdown",
   "metadata": {},
   "source": [
    " ### Alternative Solution 2: The P-Value Approach"
   ]
  },
  {
   "cell_type": "markdown",
   "metadata": {},
   "source": [
    "All steps up to step 4 are the same as for the critical value approach. So let's jump into the calculation of the p-value."
   ]
  },
  {
   "cell_type": "markdown",
   "metadata": {},
   "source": [
    "* **Step 4:**  Compute the p-value\n",
    "\n",
    "We will use the pt() function to find the p-value associated to the t-statistics. To find out more about this function, type ?pt in the console.\n",
    "\n",
    "For a single-sided hypothesis test, how we calculate the p-value depends on the sign of the alternative hypothesis. For a left-tailed test, we need to calculate the area to the left of the observed t-statistic and we can use pt(tvalue, df) as-is. For a right-tailed test, we need to calculate the area to the right of the observed t-statistic. Since the total area under the curve is 1, we can calculate the area for the left section and then subtract it from 1. Hence, for a a right-tailed test we have to use 1 - pt(tvalue, df). \n",
    "\n",
    "For a double-sided hypothesis test, like this one, we have to look at both the left and right tail areas of our curve. Since the Student's t-distribution is symmetrical, we just need to calculate the area under one of the tails, and then multiply it by two."
   ]
  },
  {
   "cell_type": "code",
   "execution_count": 14,
   "metadata": {},
   "outputs": [
    {
     "data": {
      "text/html": [
       "8.87682150008118e-10"
      ],
      "text/latex": [
       "8.87682150008118e-10"
      ],
      "text/markdown": [
       "8.87682150008118e-10"
      ],
      "text/plain": [
       "[1] 8.876822e-10"
      ]
     },
     "metadata": {},
     "output_type": "display_data"
    }
   ],
   "source": [
    "# Calculate p-value - Alternative 1\n",
    "pvalue = 2*(1-pt(abs(tvalue), df))\n",
    "pvalue"
   ]
  },
  {
   "cell_type": "markdown",
   "metadata": {},
   "source": [
    "Equivalently, instead of subtracting the left area from 1, we could set the lower.tail parameter to FALSE. Setting lower.tail to FALSE tells the function that we want to calculate the area under the curve that is greater than the t-value. Since the t-value is positive, and we're looking at the tails, we set lower to be False. We can always use the absolute value to account for both positive and negative t-values. "
   ]
  },
  {
   "cell_type": "code",
   "execution_count": 15,
   "metadata": {},
   "outputs": [
    {
     "data": {
      "text/html": [
       "8.8768210291563e-10"
      ],
      "text/latex": [
       "8.8768210291563e-10"
      ],
      "text/markdown": [
       "8.8768210291563e-10"
      ],
      "text/plain": [
       "[1] 8.876821e-10"
      ]
     },
     "metadata": {},
     "output_type": "display_data"
    }
   ],
   "source": [
    "# Calculate p-value - Alternative 2\n",
    "pvalue = 2*(pt(abs(tvalue), df, lower.tail=FALSE))\n",
    "pvalue"
   ]
  },
  {
   "cell_type": "markdown",
   "metadata": {},
   "source": [
    "Note that this value also matches the p-value for advertising shown above in the summary of our model!"
   ]
  },
  {
   "cell_type": "markdown",
   "metadata": {},
   "source": [
    "* **Step 5:** Identify the decision rule"
   ]
  },
  {
   "cell_type": "markdown",
   "metadata": {},
   "source": [
    "We reject $H_{0}$ if p-value < $\\alpha$"
   ]
  },
  {
   "cell_type": "code",
   "execution_count": 16,
   "metadata": {},
   "outputs": [
    {
     "data": {
      "text/html": [
       "TRUE"
      ],
      "text/latex": [
       "TRUE"
      ],
      "text/markdown": [
       "TRUE"
      ],
      "text/plain": [
       "[1] TRUE"
      ]
     },
     "metadata": {},
     "output_type": "display_data"
    }
   ],
   "source": [
    "# Decision rule\n",
    "pvalue < alpha"
   ]
  },
  {
   "cell_type": "markdown",
   "metadata": {},
   "source": [
    "Since the p-value of the test statistic is less than the alpha value, we reject the null hypothesis at $\\alpha$ = 0.05."
   ]
  },
  {
   "cell_type": "markdown",
   "metadata": {},
   "source": [
    " * **Step 6:** Conclusions\n",
    "\n",
    "The data provide strong evidence that the population slope is nonzero. Hence, the variable advertising appears to be statistically useful in estimating sales."
   ]
  }
 ],
 "metadata": {
  "jupytext": {
   "formats": "ipynb,Rmd"
  },
  "kernelspec": {
   "display_name": "R",
   "language": "R",
   "name": "ir"
  },
  "language_info": {
   "codemirror_mode": "r",
   "file_extension": ".r",
   "mimetype": "text/x-r-source",
   "name": "R",
   "pygments_lexer": "r",
   "version": "3.6.1"
  }
 },
 "nbformat": 4,
 "nbformat_minor": 2
}
